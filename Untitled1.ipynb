{
 "cells": [
  {
   "cell_type": "code",
   "execution_count": 8,
   "metadata": {},
   "outputs": [
    {
     "name": "stdout",
     "output_type": "stream",
     "text": [
      "0.9866666666666667\n"
     ]
    }
   ],
   "source": [
    "#Classifier from scratch\n",
    "from scipy.spatial import distance\n",
    "\n",
    "def euc(a,b):\n",
    "    return distance.euclidean(a,b)\n",
    "\n",
    "class ScrappyKNN():\n",
    "    def fit(self,X_train,Y_train):\n",
    "        self.X_train=X_train\n",
    "        self.Y_train=Y_train\n",
    "        \n",
    "    def predict(self,X_test):\n",
    "        predictions=[]\n",
    "        for row in X_test:\n",
    "            label=self.closest(row)\n",
    "            predictions.append(label)\n",
    "        return predictions\n",
    "    \n",
    "    def closest(self,row):\n",
    "        best_dist=euc(row,self.X_train[0])\n",
    "        best_index=0\n",
    "        for i in range(1,len(self.X_train)):\n",
    "            dist=euc(row,self.X_train[i])\n",
    "            if dist<best_dist:\n",
    "                best_dist=dist\n",
    "                best_index=i\n",
    "        return self.Y_train[best_index]\n",
    "     \n",
    "    \n",
    "from sklearn import datasets\n",
    "iris = datasets.load_iris()\n",
    "\n",
    "X=iris.data\n",
    "Y=iris.target\n",
    "\n",
    "from sklearn.cross_validation import train_test_split\n",
    "X_train, X_test, Y_train, Y_test=train_test_split(X,Y,test_size=.5)\n",
    "\n",
    "#from sklearn import tree\n",
    "#classifier=tree.DecisionTreeClassifier()\n",
    "#from sklearn.neighbors import KNeighborsClasssifier\n",
    "classifier=ScrappyKNN()\n",
    "\n",
    "classifier.fit(X_train, Y_train)\n",
    "\n",
    "predictions=classifier.predict(X_test)\n",
    "\n",
    "from sklearn.metrics import accuracy_score\n",
    "print (accuracy_score(Y_test, predictions))\n"
   ]
  },
  {
   "cell_type": "code",
   "execution_count": null,
   "metadata": {},
   "outputs": [],
   "source": []
  }
 ],
 "metadata": {
  "kernelspec": {
   "display_name": "Python 3",
   "language": "python",
   "name": "python3"
  },
  "language_info": {
   "codemirror_mode": {
    "name": "ipython",
    "version": 3
   },
   "file_extension": ".py",
   "mimetype": "text/x-python",
   "name": "python",
   "nbconvert_exporter": "python",
   "pygments_lexer": "ipython3",
   "version": "3.6.5"
  }
 },
 "nbformat": 4,
 "nbformat_minor": 2
}
